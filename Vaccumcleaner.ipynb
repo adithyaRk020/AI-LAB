{
  "nbformat": 4,
  "nbformat_minor": 0,
  "metadata": {
    "colab": {
      "provenance": []
    },
    "kernelspec": {
      "name": "python3",
      "display_name": "Python 3"
    },
    "language_info": {
      "name": "python"
    }
  },
  "cells": [
    {
      "cell_type": "code",
      "execution_count": null,
      "metadata": {
        "colab": {
          "base_uri": "https://localhost:8080/"
        },
        "id": "qsiM5pkAZzFH",
        "outputId": "ec77d5c7-7687-4778-abcc-76f90b696295"
      },
      "outputs": [
        {
          "output_type": "stream",
          "name": "stdout",
          "text": [
            "Cleaning position (0, 0)\n",
            "[[False, False, True], [False, True, False], [True, False, True]]\n",
            "Moving right to (0, 1)\n",
            "[[False, False, True], [False, True, False], [True, False, True]]\n",
            "Moving right to (0, 2)\n",
            "[[False, False, True], [False, True, False], [True, False, True]]\n",
            "Cleaning position (0, 2)\n",
            "[[False, False, False], [False, True, False], [True, False, True]]\n",
            "Moving down to (1, 2)\n",
            "Moving left to (1, 1)\n",
            "Moving left to (1, 0)\n",
            "[[False, False, False], [False, True, False], [True, False, True]]\n",
            "Moving right to (1, 1)\n",
            "[[False, False, False], [False, True, False], [True, False, True]]\n",
            "Cleaning position (1, 1)\n",
            "[[False, False, False], [False, False, False], [True, False, True]]\n",
            "Moving right to (1, 2)\n",
            "[[False, False, False], [False, False, False], [True, False, True]]\n",
            "Moving down to (2, 2)\n",
            "Moving left to (2, 1)\n",
            "Moving left to (2, 0)\n",
            "[[False, False, False], [False, False, False], [True, False, True]]\n",
            "Cleaning position (2, 0)\n",
            "[[False, False, False], [False, False, False], [False, False, True]]\n",
            "Moving right to (2, 1)\n",
            "[[False, False, False], [False, False, False], [False, False, True]]\n",
            "Moving right to (2, 2)\n",
            "[[False, False, False], [False, False, False], [False, False, True]]\n",
            "Cleaning position (2, 2)\n",
            "Goal achieved: The entire environment is clean!\n",
            "Adithya Ravikeerthi\n"
          ]
        }
      ],
      "source": [
        "class VacuumCleanerAgent:\n",
        "    def __init__(self, environment):\n",
        "        self.environment = environment\n",
        "        self.position = (0, 0)\n",
        "        self.goal = \"clean the entire environment\"\n",
        "\n",
        "    def is_dirty(self, position):\n",
        "        return self.environment[position[0]][position[1]]\n",
        "\n",
        "    def clean(self):\n",
        "        print(f\"Cleaning position {self.position}\")\n",
        "        self.environment[self.position[0]][self.position[1]] = False\n",
        "\n",
        "    def move_right(self):\n",
        "        if self.position[1] < len(self.environment[0]) - 1:\n",
        "            self.position = (self.position[0], self.position[1] + 1)\n",
        "            print(f\"Moving right to {self.position}\")\n",
        "\n",
        "    def move_left(self):\n",
        "        if self.position[1] > 0:\n",
        "            self.position = (self.position[0], self.position[1] - 1)\n",
        "            print(f\"Moving left to {self.position}\")\n",
        "\n",
        "    def move_down(self):\n",
        "        if self.position[0] < len(self.environment) - 1:\n",
        "            self.position = (self.position[0] + 1, self.position[1])\n",
        "            print(f\"Moving down to {self.position}\")\n",
        "\n",
        "    def move_up(self):\n",
        "        if self.position[0] > 0:\n",
        "            self.position = (self.position[0] - 1, self.position[1])\n",
        "            print(f\"Moving up to {self.position}\")\n",
        "\n",
        "    def all_clean(self):\n",
        "        return all(all(not cell for cell in row) for row in self.environment)\n",
        "\n",
        "    def step(self):\n",
        "        if self.is_dirty(self.position):\n",
        "            self.clean()\n",
        "        else:\n",
        "            if self.position[1] < len(self.environment[0]) - 1:\n",
        "                self.move_right()\n",
        "            elif self.position[0] < len(self.environment) - 1:\n",
        "                self.move_down()\n",
        "                while self.position[1] > 0:\n",
        "                    self.move_left()\n",
        "\n",
        "        if self.all_clean():\n",
        "            print(\"Goal achieved: The entire environment is clean!\")\n",
        "            return True\n",
        "        return False\n",
        "\n",
        "\n",
        "environment = [\n",
        "    [True, False, True],\n",
        "    [False, True, False],\n",
        "    [True, False, True]\n",
        "]\n",
        "\n",
        "agent = VacuumCleanerAgent(environment)\n",
        "\n",
        "while not agent.step():\n",
        "    print(agent.environment)\n",
        "\n",
        "print('Adithya Ravikeerthi')\n"
      ]
    }
  ]
}