{
  "cells": [
    {
      "cell_type": "code",
      "execution_count": null,
      "metadata": {
        "colab": {
          "base_uri": "https://localhost:8080/"
        },
        "id": "HqR-GX9gvOAY",
        "outputId": "8dc18a4d-ce9a-4a52-8bca-12a5d4f716f0"
      },
      "outputs": [
        {
          "name": "stdout",
          "output_type": "stream",
          "text": [
            "Unifying ('f', ('g', 'y'), ('z', 'x')) and ('f', ('g', 'b'), ('z', 'a')) with current substitutions: {}\n",
            "Both expressions are compound. Unifying their heads and tails.\n",
            "Unifying f and f with current substitutions: {}\n",
            "Expressions are identical. Returning substitutions: {}\n",
            "Unifying lists: (('g', 'y'), ('z', 'x')) and (('g', 'b'), ('z', 'a')) with current substitutions: {}\n",
            "Unifying ('g', 'y') and ('g', 'b') with current substitutions: {}\n",
            "Both expressions are compound. Unifying their heads and tails.\n",
            "Unifying g and g with current substitutions: {}\n",
            "Expressions are identical. Returning substitutions: {}\n",
            "Unifying lists: ('y',) and ('b',) with current substitutions: {}\n",
            "Unifying y and b with current substitutions: {}\n",
            "y is a variable.\n",
            "Unifying variable y with expression b.\n",
            "Substituting y with b.\n",
            "Unifying ('z', 'x') and ('z', 'a') with current substitutions: {'y': 'b'}\n",
            "Both expressions are compound. Unifying their heads and tails.\n",
            "Unifying z and z with current substitutions: {'y': 'b'}\n",
            "Expressions are identical. Returning substitutions: {'y': 'b'}\n",
            "Unifying lists: ('x',) and ('a',) with current substitutions: {'y': 'b'}\n",
            "Unifying x and a with current substitutions: {'y': 'b'}\n",
            "x is a variable.\n",
            "Unifying variable x with expression a.\n",
            "Substituting x with a.\n",
            "Unified substitutions: {'y': 'b', 'x': 'a'}\n",
            "\n",
            "Aditya Dinesh Netrakar\n",
            "USN: 1BM22CS017\n"
          ]
        }
      ],
      "source": [
        "class UnificationError(Exception):\n",
        "    pass\n",
        "\n",
        "def unify(expr1, expr2, substitutions=None):\n",
        "    if substitutions is None:\n",
        "        substitutions = {}\n",
        "\n",
        "    print(f\"Unifying {expr1} and {expr2} with current substitutions: {substitutions}\")\n",
        "\n",
        "    # If both expressions are identical, return current substitutions\n",
        "    if expr1 == expr2:\n",
        "        print(f\"Expressions are identical. Returning substitutions: {substitutions}\")\n",
        "        return substitutions\n",
        "\n",
        "    # If the first expression is a variable\n",
        "    if is_variable(expr1):\n",
        "        print(f\"{expr1} is a variable.\")\n",
        "        return unify_variable(expr1, expr2, substitutions)\n",
        "\n",
        "    # If the second expression is a variable\n",
        "    if is_variable(expr2):\n",
        "        print(f\"{expr2} is a variable.\")\n",
        "        return unify_variable(expr2, expr1, substitutions)\n",
        "\n",
        "    # If both expressions are compound expressions\n",
        "    if is_compound(expr1) and is_compound(expr2):\n",
        "        print(f\"Both expressions are compound. Unifying their heads and tails.\")\n",
        "        if expr1[0] != expr2[0] or len(expr1[1:]) != len(expr2[1:]):\n",
        "            raise UnificationError(\"Expressions do not match.\")\n",
        "        return unify_lists(expr1[1:], expr2[1:], unify(expr1[0], expr2[0], substitutions))\n",
        "\n",
        "    # If expressions are not compatible\n",
        "    raise UnificationError(f\"Cannot unify {expr1} and {expr2}.\")\n",
        "\n",
        "def unify_variable(var, expr, substitutions):\n",
        "    print(f\"Unifying variable {var} with expression {expr}.\")\n",
        "\n",
        "    if var in substitutions:\n",
        "        print(f\"Variable {var} already has a substitution: {substitutions[var]}. Unifying again.\")\n",
        "        return unify(substitutions[var], expr, substitutions)\n",
        "    elif occurs_check(var, expr, substitutions):\n",
        "        raise UnificationError(f\"Occurs check failed: {var} in {expr}.\")\n",
        "    else:\n",
        "        print(f\"Substituting {var} with {expr}.\")\n",
        "        substitutions[var] = expr\n",
        "        return substitutions\n",
        "\n",
        "def unify_lists(list1, list2, substitutions):\n",
        "    print(f\"Unifying lists: {list1} and {list2} with current substitutions: {substitutions}\")\n",
        "    for expr1, expr2 in zip(list1, list2):\n",
        "        substitutions = unify(expr1, expr2, substitutions)\n",
        "    return substitutions\n",
        "\n",
        "def is_variable(term):\n",
        "    return isinstance(term, str) and term[0].islower()\n",
        "\n",
        "def is_compound(term):\n",
        "    return isinstance(term, (list, tuple)) and len(term) > 0\n",
        "\n",
        "def occurs_check(var, expr, substitutions):\n",
        "    if var == expr:\n",
        "        print(f\"Occurs check: {var} is directly in {expr}.\")\n",
        "        return True\n",
        "    elif is_compound(expr):\n",
        "        print(f\"Occurs check: Recursively checking {expr}.\")\n",
        "        return any(occurs_check(var, sub, substitutions) for sub in expr)\n",
        "    elif expr in substitutions:\n",
        "        print(f\"Occurs check: Recursively checking substitution of {expr}.\")\n",
        "        return occurs_check(var, substitutions[expr], substitutions)\n",
        "    return False\n",
        "\n",
        "# Example usage\n",
        "try:\n",
        "    expr1 = (\"f\", (\"g\", \"y\"), (\"z\",\"x\"))\n",
        "    expr2 = (\"f\", (\"g\", \"b\"), (\"z\",\"a\"))\n",
        "    result = unify(expr1, expr2)\n",
        "    print(\"Unified substitutions:\", result)\n",
        "except UnificationError as e:\n",
        "    print(\"Unification failed:\", e)\n",
        "\n",
        "print(\"\\nADITHYA RAVIKEERTHI\\n\")\n",
        "print(\"\\n1BM22CS020\")"
      ]
    },
    {
      "cell_type": "code",
      "execution_count": null,
      "metadata": {
        "id": "IWQ2YKvWvlsh"
      },
      "outputs": [],
      "source": []
    }
  ],
  "metadata": {
    "colab": {
      "provenance": []
    },
    "kernelspec": {
      "display_name": "Python 3",
      "name": "python3"
    },
    "language_info": {
      "name": "python"
    }
  },
  "nbformat": 4,
  "nbformat_minor": 0
}
