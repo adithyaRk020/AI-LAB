{
  "nbformat": 4,
  "nbformat_minor": 0,
  "metadata": {
    "colab": {
      "provenance": [],
      "authorship_tag": "ABX9TyMk+J8KqEFGUI38WgTlHV34",
      "include_colab_link": true
    },
    "kernelspec": {
      "name": "python3",
      "display_name": "Python 3"
    },
    "language_info": {
      "name": "python"
    }
  },
  "cells": [
    {
      "cell_type": "markdown",
      "metadata": {
        "id": "view-in-github",
        "colab_type": "text"
      },
      "source": [
        "<a href=\"https://colab.research.google.com/github/adithyaRk020/AI-LAB/blob/main/4%20Queen%20problem%20using%20hill%20climbing.ipynb\" target=\"_parent\"><img src=\"https://colab.research.google.com/assets/colab-badge.svg\" alt=\"Open In Colab\"/></a>"
      ]
    },
    {
      "cell_type": "code",
      "source": [
        "from random import randint\n",
        "\n",
        "N = 4\n",
        "\n",
        "def configureRandomly():\n",
        "    return [randint(0, N - 1) for _ in range(N)]\n",
        "\n",
        "def printBoard(state):\n",
        "    board = [['.' for _ in range(N)] for _ in range(N)]\n",
        "    for col in range(N):\n",
        "        board[state[col]][col] = 'Q'\n",
        "    for row in board:\n",
        "        print(' '.join(row))\n",
        "    print()\n",
        "\n",
        "def calculateAttacks(state):\n",
        "    attacks = 0\n",
        "    for i in range(N):\n",
        "        for j in range(i + 1, N):\n",
        "            if state[i] == state[j] or abs(state[i] - state[j]) == abs(i - j):\n",
        "                attacks += 1\n",
        "    return attacks\n",
        "\n",
        "def getNeighbor(state):\n",
        "    new_state = state[:]\n",
        "    col = randint(0, N - 1)\n",
        "    new_row = randint(0, N - 1)\n",
        "    new_state[col] = new_row\n",
        "    return new_state\n",
        "\n",
        "def hillClimbing():\n",
        "    state = configureRandomly()\n",
        "    print(\"Initial State:\")\n",
        "    printBoard(state)\n",
        "\n",
        "    while True:\n",
        "        current_attacks = calculateAttacks(state)\n",
        "        best_neighbor = state\n",
        "        best_attacks = current_attacks\n",
        "\n",
        "        for _ in range(100):\n",
        "            neighbor = getNeighbor(state)\n",
        "            neighbor_attacks = calculateAttacks(neighbor)\n",
        "\n",
        "            if neighbor_attacks < best_attacks:\n",
        "                best_attacks = neighbor_attacks\n",
        "                best_neighbor = neighbor\n",
        "\n",
        "        if best_attacks >= current_attacks:\n",
        "            break\n",
        "\n",
        "        state = best_neighbor\n",
        "\n",
        "    print(\"Final State:\")\n",
        "    printBoard(state)\n",
        "    print(f\"Attacks: {calculateAttacks(state)}\")\n",
        "\n",
        "hillClimbing()\n"
      ],
      "metadata": {
        "colab": {
          "base_uri": "https://localhost:8080/"
        },
        "id": "LE8Pc_JUY9hz",
        "outputId": "5bc84a1a-e6de-4c3e-96a4-a068e10bec8c"
      },
      "execution_count": 7,
      "outputs": [
        {
          "output_type": "stream",
          "name": "stdout",
          "text": [
            "Initial State:\n",
            ". . Q .\n",
            ". . . .\n",
            "Q . . .\n",
            ". Q . Q\n",
            "\n",
            "Final State:\n",
            ". . Q .\n",
            "Q . . .\n",
            ". . . Q\n",
            ". Q . .\n",
            "\n",
            "Attacks: 0\n"
          ]
        }
      ]
    }
  ]
}