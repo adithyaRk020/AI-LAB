{
  "nbformat": 4,
  "nbformat_minor": 0,
  "metadata": {
    "colab": {
      "provenance": [],
      "authorship_tag": "ABX9TyMWYc0735aAzxv/7cin8SKU",
      "include_colab_link": true
    },
    "kernelspec": {
      "name": "python3",
      "display_name": "Python 3"
    },
    "language_info": {
      "name": "python"
    }
  },
  "cells": [
    {
      "cell_type": "markdown",
      "metadata": {
        "id": "view-in-github",
        "colab_type": "text"
      },
      "source": [
        "<a href=\"https://colab.research.google.com/github/adithyaRk020/AI-LAB/blob/main/Knowledge_Base.ipynb\" target=\"_parent\"><img src=\"https://colab.research.google.com/assets/colab-badge.svg\" alt=\"Open In Colab\"/></a>"
      ]
    },
    {
      "cell_type": "code",
      "execution_count": 3,
      "metadata": {
        "colab": {
          "base_uri": "https://localhost:8080/"
        },
        "id": "2jVRXjQLnthw",
        "outputId": "45b9832c-07e9-44f6-cf49-c721f568f295"
      },
      "outputs": [
        {
          "output_type": "stream",
          "name": "stdout",
          "text": [
            "Does KB entail R?  True\n",
            "Does KB entail R -> P?  False\n",
            "Does KB entail Q -> R?  True\n",
            "1BM22CS020\n",
            "Adithya Ravikeerthi\n"
          ]
        }
      ],
      "source": [
        "import itertools\n",
        "\n",
        "def implies(p, q):\n",
        "    return not p or q\n",
        "\n",
        "def negation(p):\n",
        "    return not p\n",
        "\n",
        "def disjunction(p, q):\n",
        "    return p or q\n",
        "\n",
        "def entails(kb, query):\n",
        "    combinations = list(itertools.product([False, True], repeat=3))\n",
        "\n",
        "    for combination in combinations:\n",
        "        Q, P, R = combination\n",
        "        kb_true = kb(Q, P, R)\n",
        "        query_true = query(Q, P, R)\n",
        "\n",
        "        if kb_true and not query_true:\n",
        "            return False\n",
        "    return True\n",
        "\n",
        "def kb(Q, P, R):\n",
        "    return implies(Q, P) and implies(P, negation(Q)) and disjunction(Q, R)\n",
        "\n",
        "def query1(Q, P, R):\n",
        "    return R\n",
        "\n",
        "def query2(Q, P, R):\n",
        "    return implies(R, P)\n",
        "\n",
        "def query3(Q, P, R):\n",
        "    return implies(Q, R)\n",
        "\n",
        "print(\"Does KB entail R? \", entails(kb, query1))\n",
        "print(\"Does KB entail R -> P? \", entails(kb, query2))\n",
        "print(\"Does KB entail Q -> R? \", entails(kb, query3))\n",
        "\n",
        "print(\"1BM22CS020\")\n",
        "print(\"Adithya Ravikeerthi\")"
      ]
    }
  ]
}