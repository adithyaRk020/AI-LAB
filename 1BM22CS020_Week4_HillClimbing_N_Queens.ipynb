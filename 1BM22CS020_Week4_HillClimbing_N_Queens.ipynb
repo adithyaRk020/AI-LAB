{
  "nbformat": 4,
  "nbformat_minor": 0,
  "metadata": {
    "colab": {
      "provenance": [],
      "authorship_tag": "ABX9TyPpb/dRFdAoDIAllIDvCQv9",
      "include_colab_link": true
    },
    "kernelspec": {
      "name": "python3",
      "display_name": "Python 3"
    },
    "language_info": {
      "name": "python"
    }
  },
  "cells": [
    {
      "cell_type": "markdown",
      "metadata": {
        "id": "view-in-github",
        "colab_type": "text"
      },
      "source": [
        "<a href=\"https://colab.research.google.com/github/adithyaRk020/AI-LAB/blob/main/4%20Queens%20Problem%20using%20Hill%20Climbing.ipynb\" target=\"_parent\"><img src=\"https://colab.research.google.com/assets/colab-badge.svg\" alt=\"Open In Colab\"/></a>"
      ]
    },
    {
      "cell_type": "code",
      "source": [
        "print(\"Adithya Ravikeerthi\")\n",
        "print(\"1BM22CS020\")\n",
        "\n",
        "def calculate_heuristic(state):\n",
        "    heuristic = 0\n",
        "    n = len(state)\n",
        "    for i in range(n):\n",
        "        for j in range(i + 1, n):\n",
        "            if state[i] == state[j]:\n",
        "                heuristic += 1\n",
        "            if abs(state[i] - state[j]) == abs(i - j):\n",
        "                heuristic += 1\n",
        "    return heuristic\n",
        "\n",
        "def generate_neighbors(state, count):\n",
        "    count += 1\n",
        "    neighbors = []\n",
        "    n = len(state)\n",
        "    for i in range(n):\n",
        "        for j in range(i + 1, n):\n",
        "            new_state = state.copy()\n",
        "            new_state[i], new_state[j] = new_state[j], new_state[i]\n",
        "            neighbors.append(new_state)\n",
        "    return neighbors, count\n",
        "\n",
        "def print_board(state):\n",
        "    n = len(state)\n",
        "    board = [['.'] * n for _ in range(n)]\n",
        "    for row in range(n):\n",
        "        board[row][state[row]] = 'Q'\n",
        "    for row in board:\n",
        "        print(' '.join(row))\n",
        "    print()\n",
        "\n",
        "def hill_climbing_n_queens(initial_state):\n",
        "    current_state = initial_state\n",
        "    count = 0\n",
        "\n",
        "    while True:\n",
        "        current_heuristic = calculate_heuristic(current_state)\n",
        "        print(f\"Current State: {current_state}, Heuristic: {current_heuristic}\")\n",
        "        print_board(current_state)\n",
        "\n",
        "        if current_heuristic == 0:\n",
        "            return current_state, count\n",
        "\n",
        "        neighbors, count = generate_neighbors(current_state, count)\n",
        "        best_neighbor = None\n",
        "        best_heuristic = float('inf')\n",
        "\n",
        "        for neighbor in neighbors:\n",
        "            heuristic = calculate_heuristic(neighbor)\n",
        "            if heuristic < best_heuristic:\n",
        "                best_heuristic = heuristic\n",
        "                best_neighbor = neighbor\n",
        "\n",
        "        if best_heuristic >= current_heuristic:\n",
        "            break\n",
        "\n",
        "        current_state = best_neighbor\n",
        "\n",
        "    return None\n",
        "\n",
        "def solve_n_queens():\n",
        "    initial_state = [3, 1, 2, 0]\n",
        "    solution, count = hill_climbing_n_queens(initial_state)\n",
        "\n",
        "    if solution:\n",
        "        print(f\"Solution found for 4-Queens problem: {solution}\")\n",
        "        print_board(solution)\n",
        "        print(\"Attack =\", count)\n",
        "    else:\n",
        "        print(\"No solution found.\")\n",
        "\n",
        "solve_n_queens()"
      ],
      "metadata": {
        "colab": {
          "base_uri": "https://localhost:8080/"
        },
        "id": "YzG0wgWIacoz",
        "outputId": "3424781d-c227-432d-ee94-d2324d2dbf55"
      },
      "execution_count": 27,
      "outputs": [
        {
          "output_type": "stream",
          "name": "stdout",
          "text": [
            "Adithya Ravikeerthi\n",
            "1BM22CS020\n",
            "Current State: [3, 1, 2, 0], Heuristic: 2\n",
            ". . . Q\n",
            ". Q . .\n",
            ". . Q .\n",
            "Q . . .\n",
            "\n",
            "Current State: [1, 3, 2, 0], Heuristic: 1\n",
            ". Q . .\n",
            ". . . Q\n",
            ". . Q .\n",
            "Q . . .\n",
            "\n",
            "Current State: [1, 3, 0, 2], Heuristic: 0\n",
            ". Q . .\n",
            ". . . Q\n",
            "Q . . .\n",
            ". . Q .\n",
            "\n",
            "Solution found for 4-Queens problem: [1, 3, 0, 2]\n",
            ". Q . .\n",
            ". . . Q\n",
            "Q . . .\n",
            ". . Q .\n",
            "\n",
            "Attack = 2\n"
          ]
        }
      ]
    }
  ]
}
