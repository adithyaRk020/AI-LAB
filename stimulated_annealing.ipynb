{
  "nbformat": 4,
  "nbformat_minor": 0,
  "metadata": {
    "colab": {
      "provenance": [],
      "authorship_tag": "ABX9TyMXWGW0KVVpNvfcufook/S+",
      "include_colab_link": true
    },
    "kernelspec": {
      "name": "python3",
      "display_name": "Python 3"
    },
    "language_info": {
      "name": "python"
    }
  },
  "cells": [
    {
      "cell_type": "markdown",
      "metadata": {
        "id": "view-in-github",
        "colab_type": "text"
      },
      "source": [
        "<a href=\"https://colab.research.google.com/github/adithyaRk020/AI-LAB/blob/main/stimulated_annealing.ipynb\" target=\"_parent\"><img src=\"https://colab.research.google.com/assets/colab-badge.svg\" alt=\"Open In Colab\"/></a>"
      ]
    },
    {
      "cell_type": "code",
      "source": [
        "import random\n",
        "import numpy as np\n",
        "import math\n",
        "\n",
        "def queens_max(position):\n",
        "    no_attack_on_j = 0\n",
        "    queen_not_attacking = 0\n",
        "    n = len(position)\n",
        "\n",
        "    for i in range(n - 1):\n",
        "        no_attack_on_j = 0\n",
        "        for j in range(i + 1, n):\n",
        "            if (position[j] != position[i]) and (position[j] != position[i] + (j - i)) and (position[j] != position[i] - (j - i)):\n",
        "                no_attack_on_j += 1\n",
        "                if no_attack_on_j == n - 1 - i:\n",
        "                    queen_not_attacking += 1\n",
        "    if queen_not_attacking == 7:\n",
        "        queen_not_attacking += 1\n",
        "\n",
        "    return queen_not_attacking\n",
        "\n",
        "def random_state(n):\n",
        "    return np.random.permutation(n)\n",
        "\n",
        "def get_neighbors(state):\n",
        "    neighbors = []\n",
        "    n = len(state)\n",
        "    for i in range(n):\n",
        "        for j in range(i + 1, n):\n",
        "            neighbor = state.copy()\n",
        "            neighbor[i], neighbor[j] = neighbor[j], neighbor[i]\n",
        "            neighbors.append(neighbor)\n",
        "    return neighbors\n",
        "\n",
        "def simulated_annealing(n, initial_temp=10000, cooling_rate=0.99, max_iterations=1000):\n",
        "    current_state = random_state(n)\n",
        "    current_energy = queens_max(current_state)\n",
        "    best_state = current_state\n",
        "    best_energy = current_energy\n",
        "    temp = initial_temp\n",
        "\n",
        "    for iteration in range(max_iterations):\n",
        "        if current_energy == n:\n",
        "            break\n",
        "\n",
        "        neighbors = get_neighbors(current_state)\n",
        "        next_state = random.choice(neighbors)\n",
        "        next_energy = queens_max(next_state)\n",
        "\n",
        "        energy_diff = next_energy - current_energy\n",
        "\n",
        "        if energy_diff > 0 or random.random() < math.exp(energy_diff / temp):\n",
        "            current_state = next_state\n",
        "            current_energy = next_energy\n",
        "\n",
        "            if current_energy > best_energy:\n",
        "                best_state = current_state\n",
        "                best_energy = current_energy\n",
        "\n",
        "        temp *= cooling_rate\n",
        "\n",
        "        if iteration % 100 == 0:\n",
        "            print(f\"Iteration {iteration}, Energy: {current_energy}\")\n",
        "\n",
        "    return best_state, best_energy\n",
        "\n",
        "def display_board(state):\n",
        "    n = len(state)\n",
        "    for i in range(n):\n",
        "        row = ['Q' if j == state[i] else '.' for j in range(n)]\n",
        "        print(' '.join(row))\n",
        "    print()\n",
        "\n",
        "n = 8\n",
        "solution, energy = simulated_annealing(n)\n",
        "\n",
        "if energy == n:\n",
        "    display_board(solution)\n",
        "    print(f\"Solution found with {energy} queens not attacking each other.\")\n",
        "else:\n",
        "    print(\"No solution found.\")\n"
      ],
      "metadata": {
        "colab": {
          "base_uri": "https://localhost:8080/"
        },
        "id": "TCYF1B49kzyv",
        "outputId": "4e110bcc-206d-465e-a7b7-d42c096b2221"
      },
      "execution_count": 38,
      "outputs": [
        {
          "output_type": "stream",
          "name": "stdout",
          "text": [
            "Iteration 0, Energy: 3\n",
            ". . . Q . . . .\n",
            ". . . . . . . Q\n",
            ". . . . Q . . .\n",
            ". . Q . . . . .\n",
            "Q . . . . . . .\n",
            ". . . . . . Q .\n",
            ". Q . . . . . .\n",
            ". . . . . Q . .\n",
            "\n",
            "Solution found with 8 queens not attacking each other.\n"
          ]
        }
      ]
    }
  ]
}